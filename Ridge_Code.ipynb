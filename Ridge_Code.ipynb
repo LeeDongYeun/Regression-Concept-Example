{
 "cells": [
  {
   "cell_type": "markdown",
   "metadata": {},
   "source": [
    "## Library (Module)\n",
    "#### &nbsp; numpy : Matrix Calculation Tool  (Ref. http://www.numpy.org/)\n",
    "#### &nbsp; matplotlib : Mathematical Plotting Tool  (Ref. https://matplotlib.org/)"
   ]
  },
  {
   "cell_type": "code",
   "execution_count": 2,
   "metadata": {},
   "outputs": [],
   "source": [
    "import numpy as np\n",
    "import matplotlib.pyplot as plt"
   ]
  },
  {
   "cell_type": "markdown",
   "metadata": {},
   "source": [
    "## Functions\n",
    "\n",
    "#### LR_CF : Linear Regression Closed form Solution\n",
    "&nbsp; Input : Data Matrix $ \\Phi$ and Label $Y$ &nbsp; Output : Weight matrix $ \\theta$ <p>\n",
    "#### RR_CF : Ridge Regression Closed form Solution <p>\n",
    "&nbsp; Input : Data Matrix $ \\Phi$, $\\lambda$ and Label $Y$ &nbsp; Output : Weight matrix $ \\theta$ <p>\n",
    "#### LS_Err : Ls Error <p>\n",
    "&nbsp; Input : Data Matrix $ \\Phi$, Weight matrix $ \\theta$ and Label $Y$ &nbsp; Output : LS Error <p>"
   ]
  },
  {
   "cell_type": "code",
   "execution_count": 3,
   "metadata": {},
   "outputs": [],
   "source": [
    "def LR_CF(X,Y):\n",
    "    Theta = np.matmul(np.matmul(np.linalg.inv(np.matmul(X.transpose(), X)), X.transpose()), Y)\n",
    "    return Theta\n",
    "def RR_CF(X,Y,lamda):\n",
    "    Theta_RR=np.matmul(np.matmul(np.linalg.inv(np.matmul(X.transpose(), X) + lamda * np.identity(3)), X.transpose()), Y)\n",
    "    return Theta_RR\n",
    "def LS_Err(Theta,X,Y):\n",
    "    Temp = np.matmul(X, Theta) - Y\n",
    "    Err = 0.5 * np.matmul(Temp.transpose(), Temp)\n",
    "    return Err"
   ]
  },
  {
   "cell_type": "markdown",
   "metadata": {},
   "source": [
    "## Data set\n",
    "#### Train : Data Matrix $\\Phi$\n",
    "#### Val : Validation Data set for Evaluation"
   ]
  },
  {
   "cell_type": "code",
   "execution_count": 13,
   "metadata": {},
   "outputs": [
    {
     "data": {
      "image/png": "[encoded data removed]",
      "text/plain": [
       "<Figure size 432x288 with 1 Axes>"
      ]
     },
     "metadata": {},
     "output_type": "display_data"
    }
   ],
   "source": [
    "X_Train=np.array([[1,1,1],[1,2,4],[1,5,25],[1,7,49]])\n",
    "Y_Train=np.array([1.5,1.6,4.9,5.1])\n",
    "\n",
    "\n",
    "X_Val= np.array([[1,9,81], [1,4,16], [1,3,9]])\n",
    "Y_Val= np.array([6.5, 3.5, 3])\n",
    "\n",
    "\n",
    "#Blue dots represent Training set and Green Dots represent validation set\n",
    "plt.plot(X_Train[:,1],Y_Train,'bo')\n",
    "plt.plot(X_Val[:,1],Y_Val,'go')\n",
    "plt.grid()\n",
    "plt.show()"
   ]
  },
  {
   "cell_type": "markdown",
   "metadata": {},
   "source": [
    "## Linear Regression\n",
    "### 1) P=2 Case "
   ]
  },
  {
   "cell_type": "code",
   "execution_count": 14,
   "metadata": {},
   "outputs": [
    {
     "name": "stdout",
     "output_type": "stream",
     "text": [
      "[[1 9]\n",
      " [1 4]\n",
      " [1 3]] \n",
      " \n",
      " [[1 1]\n",
      " [1 2]\n",
      " [1 5]\n",
      " [1 7]]\n"
     ]
    }
   ],
   "source": [
    "#To Test the P=2 case, Only first 2 columns are used.\n",
    "X_Train_ord2=X_Train[:,:2]\n",
    "X_Val_ord2=X_Val[:,:2]\n",
    "\n",
    "print(X_Val_ord2,\"\\n \\n\", X_Train_ord2)"
   ]
  },
  {
   "cell_type": "code",
   "execution_count": 15,
   "metadata": {},
   "outputs": [
    {
     "data": {
      "image/png": "[encoded data removed]",
      "text/plain": [
       "<Figure size 432x288 with 1 Axes>"
      ]
     },
     "metadata": {},
     "output_type": "display_data"
    },
    {
     "name": "stdout",
     "output_type": "stream",
     "text": [
      "LS error (P=2) =  0.11763192851105009\n"
     ]
    }
   ],
   "source": [
    "#Use LR_CF function to calculate the Theta\n",
    "Theta_ord2=LR_CF(X_Train_ord2,Y_Train)\n",
    "\n",
    "#To draw the Graph, we set X to be array that starts at 0 and end at 10, with 0.001 step size\n",
    "x=np.arange(0,10,0.001)\n",
    "\n",
    "#Y_ord2 gives the Estimated value for each points in X array\n",
    "Y_ord2=Theta_ord2[0]+Theta_ord2[1]*x\n",
    "\n",
    "#We plot the points first Blue dots represent Training set and Green Dots represent Validation set\n",
    "plt.plot(X_Train[:,1],Y_Train,'bo')\n",
    "plt.plot(X_Val[:,1],Y_Val,'go')\n",
    "\n",
    "#Plot X, and Y\n",
    "plt.plot(x,Y_ord2)\n",
    "\n",
    "#Plot Grid\n",
    "plt.grid()\n",
    "plt.show()\n",
    "\n",
    "#Use LS_Err function to calculate the LS error for the Test set\n",
    "print(\"LS error (P=2) = \",LS_Err(Theta_ord2,X_Val_ord2,Y_Val))"
   ]
  },
  {
   "cell_type": "markdown",
   "metadata": {},
   "source": [
    "### 2) P=3 Case"
   ]
  },
  {
   "cell_type": "code",
   "execution_count": 17,
   "metadata": {
    "scrolled": true
   },
   "outputs": [
    {
     "data": {
      "image/png": "[encoded data removed]",
      "text/plain": [
       "<Figure size 432x288 with 1 Axes>"
      ]
     },
     "metadata": {},
     "output_type": "display_data"
    },
    {
     "name": "stdout",
     "output_type": "stream",
     "text": [
      "LS error (P=3) =  0.7640649238725294\n"
     ]
    }
   ],
   "source": [
    "\"\"\"\n",
    "For P=3 case,\n",
    "\n",
    "Calculate the Theta_Linear Regression\n",
    "Draw Graph\n",
    "Calculate LS_Err\n",
    "\n",
    "HINT : Use Code for P=2 case\n",
    "HINT : All 3 columns of data matrix is used (Do not have to delete last column)\n",
    "\"\"\"\n",
    "#To Test the P=3 case, Only first 3 columns are used.\n",
    "X_Train_ord3=X_Train[:,:3]\n",
    "X_Val_ord3=X_Val[:,:3]\n",
    "\n",
    "#print(X_Val_ord2,\"\\n \\n\", X_Train_ord3)\n",
    "\n",
    "#Use LR_CF function to calculate the Theta\n",
    "Theta_ord3=LR_CF(X_Train_ord3,Y_Train)\n",
    "\n",
    "#To draw the Graph, we set X to be array that starts at 0 and end at 10, with 0.001 step size\n",
    "x=np.arange(0,10,0.001)\n",
    "\n",
    "#Y_ord2 gives the Estimated value for each points in X array\n",
    "Y_ord3=Theta_ord3[0]+Theta_ord3[1]*x+Theta_ord3[2]*x*x\n",
    "\n",
    "#We plot the points first Blue dots represent Training set and Green Dots represent Validation set\n",
    "plt.plot(X_Train[:,1],Y_Train,'bo')\n",
    "plt.plot(X_Val[:,1],Y_Val,'go')\n",
    "\n",
    "#Plot X, and Y\n",
    "plt.plot(x,Y_ord3)\n",
    "\n",
    "#Plot Grid\n",
    "plt.grid()\n",
    "plt.show()\n",
    "\n",
    "#Use LS_Err function to calculate the LS error for the Test set\n",
    "print(\"LS error (P=3) = \",LS_Err(Theta_ord3,X_Val_ord3,Y_Val))"
   ]
  },
  {
   "cell_type": "markdown",
   "metadata": {},
   "source": [
    "## Ridge Regression"
   ]
  },
  {
   "cell_type": "code",
   "execution_count": 18,
   "metadata": {},
   "outputs": [],
   "source": [
    "#Lambda(Regularization constant) Array is given starts from 0 to 1 with stepsize 0.001\n",
    "Lambda=np.arange(0,1,0.001)\n",
    "\n",
    "#To track Ridge cost, LS_COST array is defined\n",
    "LS_Cost=np.zeros(len(Lambda))\n",
    "\n",
    "#The minimum Loss is set to 10\n",
    "LS_min=10"
   ]
  },
  {
   "cell_type": "code",
   "execution_count": 19,
   "metadata": {},
   "outputs": [],
   "source": [
    "#Find the lamda with smallest Cost\n",
    "for i in range(len(Lambda)):\n",
    "    _Lambda=Lambda[i]\n",
    "    Temp=RR_CF(X_Train,Y_Train,_Lambda)\n",
    "    LS=LS_Err(Temp,X_Val,Y_Val)\n",
    "    LS_Cost[i]=LS\n",
    "    if LS_min>LS:\n",
    "        LS_min=LS\n",
    "        L=i\n",
    "        Theta_RR=Temp\n"
   ]
  },
  {
   "cell_type": "code",
   "execution_count": 20,
   "metadata": {},
   "outputs": [
    {
     "name": "stdout",
     "output_type": "stream",
     "text": [
      "LS error of Ridge Regression : 0.02122081023295649\n",
      "Optimal Lambda =  0.6880000000000001\n",
      "Theta_Ridge =  [ 0.33301765  0.89750669 -0.02435174]\n"
     ]
    }
   ],
   "source": [
    "print(\"LS error of Ridge Regression :\",LS_min)\n",
    "print(\"Optimal Lambda = \", Lambda[L])\n",
    "print(\"Theta_Ridge = \", Theta_RR)"
   ]
  },
  {
   "cell_type": "code",
   "execution_count": 21,
   "metadata": {},
   "outputs": [
    {
     "data": {
      "image/png": "[encoded data removed]",
      "text/plain": [
       "<Figure size 432x288 with 1 Axes>"
      ]
     },
     "metadata": {},
     "output_type": "display_data"
    }
   ],
   "source": [
    "\"\"\"\n",
    "Plot the lamda vs. Ridge cost graph (Lamda vs. LS_Cost)\n",
    "\n",
    "Hint : use plt.plot function\n",
    "\"\"\"\n",
    "\n",
    "plt.plot(Lambda,LS_Cost)\n",
    "plt.show()"
   ]
  },
  {
   "cell_type": "code",
   "execution_count": 23,
   "metadata": {},
   "outputs": [
    {
     "data": {
      "image/png": "[encoded data removed]",
      "text/plain": [
       "<Figure size 432x288 with 1 Axes>"
      ]
     },
     "metadata": {},
     "output_type": "display_data"
    }
   ],
   "source": [
    "Y_RR=Theta_RR[0]+Theta_RR[1]*x+Theta_RR[2]*x**2\n",
    "\n",
    "plt.plot(X_Train[:,1],Y_Train,'bo')\n",
    "plt.plot(X_Val[:,1],Y_Val,'go')\n",
    "\n",
    "plt.plot(x,Y_RR)\n",
    "plt.grid()\n",
    "plt.show()"
   ]
  }
 ],
 "metadata": {
  "kernelspec": {
   "display_name": "Python 3",
   "language": "python",
   "name": "python3"
  },
  "language_info": {
   "codemirror_mode": {
    "name": "ipython",
    "version": 3
   },
   "file_extension": ".py",
   "mimetype": "text/x-python",
   "name": "python",
   "nbconvert_exporter": "python",
   "pygments_lexer": "ipython3",
   "version": "3.6.5"
  }
 },
 "nbformat": 4,
 "nbformat_minor": 2
}
